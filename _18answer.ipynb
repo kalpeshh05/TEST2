{
 "cells": [
  {
   "cell_type": "code",
   "execution_count": 1,
   "id": "41f19124",
   "metadata": {},
   "outputs": [
    {
     "name": "stdout",
     "output_type": "stream",
     "text": [
      "Brand: Toyota, Color: Red\n",
      "Brand: Honda, Color: Blue\n",
      "Model: Civic\n"
     ]
    }
   ],
   "source": [
    "class Vehicle:\n",
    "    def __init__(self, brand, color):\n",
    "        self.brand = brand\n",
    "        self.color = color\n",
    "\n",
    "    def display_info(self):\n",
    "        print(f\"Brand: {self.brand}, Color: {self.color}\")\n",
    "\n",
    "class Car(Vehicle):\n",
    "    def __init__(self, brand, color, model):\n",
    "        super().__init__(brand, color)\n",
    "        self.model = model\n",
    "\n",
    "    def display_info(self):\n",
    "        super().display_info()\n",
    "        print(f\"Model: {self.model}\")\n",
    "\n",
    "# Example usage\n",
    "vehicle = Vehicle(\"Toyota\", \"Red\")\n",
    "vehicle.display_info()\n",
    "\n",
    "car = Car(\"Honda\", \"Blue\", \"Civic\")\n",
    "car.display_info()"
   ]
  },
  {
   "cell_type": "markdown",
   "id": "6d205b03",
   "metadata": {},
   "source": [
    "# answer 19"
   ]
  },
  {
   "cell_type": "code",
   "execution_count": 2,
   "id": "85013e69",
   "metadata": {},
   "outputs": [
    {
     "name": "stdout",
     "output_type": "stream",
     "text": [
      "Name: Alice, Marks: 85\n",
      "Marks: 85\n",
      "Name: Alice, Marks: 92\n",
      "Invalid marks. Please enter a value between 0 and 100.\n"
     ]
    }
   ],
   "source": [
    "class Student:\n",
    "    def __init__(self, name, marks):\n",
    "        self.name = name\n",
    "        self.__marks = marks  # Private attribute\n",
    "\n",
    "    # Getter method to access private attribute\n",
    "    def get_marks(self):\n",
    "        return self.__marks\n",
    "\n",
    "    # Setter method to modify private attribute\n",
    "    def set_marks(self, marks):\n",
    "        if 0 <= marks <= 100:  # Validation for marks\n",
    "            self.__marks = marks\n",
    "        else:\n",
    "            print(\"Invalid marks. Please enter a value between 0 and 100.\")\n",
    "\n",
    "    def display_info(self):\n",
    "        print(f\"Name: {self.name}, Marks: {self.__marks}\")\n",
    "\n",
    "# Example usage\n",
    "student = Student(\"Alice\", 85)\n",
    "student.display_info()\n",
    "\n",
    "# Accessing private attribute using getter\n",
    "print(\"Marks:\", student.get_marks())\n",
    "\n",
    "# Modifying private attribute using setter\n",
    "student.set_marks(92)\n",
    "student.display_info()\n",
    "\n",
    "# Attempting to set invalid marks\n",
    "student.set_marks(150)"
   ]
  },
  {
   "cell_type": "markdown",
   "id": "00ca78a0",
   "metadata": {},
   "source": [
    "# answer 21"
   ]
  },
  {
   "cell_type": "code",
   "execution_count": 3,
   "id": "ab6c0c78",
   "metadata": {},
   "outputs": [
    {
     "name": "stdout",
     "output_type": "stream",
     "text": [
      "Child's Name: Alice, Age: 10\n",
      "Father's Name: John, Age: 45\n",
      "Mother's Name: Jane, Age: 42\n"
     ]
    }
   ],
   "source": [
    "class Father:\n",
    "    def __init__(self, father_name, father_age):\n",
    "        self.father_name = father_name\n",
    "        self.father_age = father_age\n",
    "\n",
    "    def display_father_info(self):\n",
    "        print(f\"Father's Name: {self.father_name}, Age: {self.father_age}\")\n",
    "\n",
    "\n",
    "class Mother:\n",
    "    def __init__(self, mother_name, mother_age):\n",
    "        self.mother_name = mother_name\n",
    "        self.mother_age = mother_age\n",
    "\n",
    "    def display_mother_info(self):\n",
    "        print(f\"Mother's Name: {self.mother_name}, Age: {self.mother_age}\")\n",
    "\n",
    "\n",
    "class Child(Father, Mother):\n",
    "    def __init__(self, father_name, father_age, mother_name, mother_age, child_name, child_age):\n",
    "        Father.__init__(self, father_name, father_age)\n",
    "        Mother.__init__(self, mother_name, mother_age)\n",
    "        self.child_name = child_name\n",
    "        self.child_age = child_age\n",
    "\n",
    "    def display_child_info(self):\n",
    "        print(f\"Child's Name: {self.child_name}, Age: {self.child_age}\")\n",
    "        self.display_father_info()\n",
    "        self.display_mother_info()\n",
    "\n",
    "\n",
    "# Example usage\n",
    "child = Child(\"John\", 45, \"Jane\", 42, \"Alice\", 10)\n",
    "child.display_child_info()"
   ]
  },
  {
   "cell_type": "code",
   "execution_count": null,
   "id": "e073d512",
   "metadata": {},
   "outputs": [],
   "source": []
  }
 ],
 "metadata": {
  "kernelspec": {
   "display_name": "base",
   "language": "python",
   "name": "python3"
  },
  "language_info": {
   "codemirror_mode": {
    "name": "ipython",
    "version": 3
   },
   "file_extension": ".py",
   "mimetype": "text/x-python",
   "name": "python",
   "nbconvert_exporter": "python",
   "pygments_lexer": "ipython3",
   "version": "3.12.7"
  }
 },
 "nbformat": 4,
 "nbformat_minor": 5
}
